{
 "cells": [
  {
   "cell_type": "markdown",
   "metadata": {
    "pycharm": {
     "name": "#%% md\n"
    }
   },
   "source": [
    "# Cleaned Data"
   ]
  },
  {
   "cell_type": "code",
   "execution_count": 2,
   "metadata": {
    "pycharm": {
     "name": "#%%\n"
    }
   },
   "outputs": [],
   "source": [
    "import pandas as pd\n",
    "import numpy as np"
   ]
  },
  {
   "cell_type": "code",
   "execution_count": 3,
   "metadata": {
    "pycharm": {
     "name": "#%%\n"
    }
   },
   "outputs": [
    {
     "data": {
      "text/plain": "       InvoiceNo StockCode                          Description  Quantity  \\\n0         536365    85123A   WHITE HANGING HEART T-LIGHT HOLDER         6   \n1         536365     71053                  WHITE METAL LANTERN         6   \n2         536365    84406B       CREAM CUPID HEARTS COAT HANGER         8   \n3         536365    84029G  KNITTED UNION FLAG HOT WATER BOTTLE         6   \n4         536365    84029E       RED WOOLLY HOTTIE WHITE HEART.         6   \n...          ...       ...                                  ...       ...   \n541904    581587     22613          PACK OF 20 SPACEBOY NAPKINS        12   \n541905    581587     22899         CHILDREN'S APRON DOLLY GIRL          6   \n541906    581587     23254        CHILDRENS CUTLERY DOLLY GIRL          4   \n541907    581587     23255      CHILDRENS CUTLERY CIRCUS PARADE         4   \n541908    581587     22138        BAKING SET 9 PIECE RETROSPOT          3   \n\n            InvoiceDate  UnitPrice  CustomerID         Country  \n0        12/1/2010 8:26       2.55     17850.0  United Kingdom  \n1        12/1/2010 8:26       3.39     17850.0  United Kingdom  \n2        12/1/2010 8:26       2.75     17850.0  United Kingdom  \n3        12/1/2010 8:26       3.39     17850.0  United Kingdom  \n4        12/1/2010 8:26       3.39     17850.0  United Kingdom  \n...                 ...        ...         ...             ...  \n541904  12/9/2011 12:50       0.85     12680.0          France  \n541905  12/9/2011 12:50       2.10     12680.0          France  \n541906  12/9/2011 12:50       4.15     12680.0          France  \n541907  12/9/2011 12:50       4.15     12680.0          France  \n541908  12/9/2011 12:50       4.95     12680.0          France  \n\n[541909 rows x 8 columns]",
      "text/html": "<div>\n<style scoped>\n    .dataframe tbody tr th:only-of-type {\n        vertical-align: middle;\n    }\n\n    .dataframe tbody tr th {\n        vertical-align: top;\n    }\n\n    .dataframe thead th {\n        text-align: right;\n    }\n</style>\n<table border=\"1\" class=\"dataframe\">\n  <thead>\n    <tr style=\"text-align: right;\">\n      <th></th>\n      <th>InvoiceNo</th>\n      <th>StockCode</th>\n      <th>Description</th>\n      <th>Quantity</th>\n      <th>InvoiceDate</th>\n      <th>UnitPrice</th>\n      <th>CustomerID</th>\n      <th>Country</th>\n    </tr>\n  </thead>\n  <tbody>\n    <tr>\n      <th>0</th>\n      <td>536365</td>\n      <td>85123A</td>\n      <td>WHITE HANGING HEART T-LIGHT HOLDER</td>\n      <td>6</td>\n      <td>12/1/2010 8:26</td>\n      <td>2.55</td>\n      <td>17850.0</td>\n      <td>United Kingdom</td>\n    </tr>\n    <tr>\n      <th>1</th>\n      <td>536365</td>\n      <td>71053</td>\n      <td>WHITE METAL LANTERN</td>\n      <td>6</td>\n      <td>12/1/2010 8:26</td>\n      <td>3.39</td>\n      <td>17850.0</td>\n      <td>United Kingdom</td>\n    </tr>\n    <tr>\n      <th>2</th>\n      <td>536365</td>\n      <td>84406B</td>\n      <td>CREAM CUPID HEARTS COAT HANGER</td>\n      <td>8</td>\n      <td>12/1/2010 8:26</td>\n      <td>2.75</td>\n      <td>17850.0</td>\n      <td>United Kingdom</td>\n    </tr>\n    <tr>\n      <th>3</th>\n      <td>536365</td>\n      <td>84029G</td>\n      <td>KNITTED UNION FLAG HOT WATER BOTTLE</td>\n      <td>6</td>\n      <td>12/1/2010 8:26</td>\n      <td>3.39</td>\n      <td>17850.0</td>\n      <td>United Kingdom</td>\n    </tr>\n    <tr>\n      <th>4</th>\n      <td>536365</td>\n      <td>84029E</td>\n      <td>RED WOOLLY HOTTIE WHITE HEART.</td>\n      <td>6</td>\n      <td>12/1/2010 8:26</td>\n      <td>3.39</td>\n      <td>17850.0</td>\n      <td>United Kingdom</td>\n    </tr>\n    <tr>\n      <th>...</th>\n      <td>...</td>\n      <td>...</td>\n      <td>...</td>\n      <td>...</td>\n      <td>...</td>\n      <td>...</td>\n      <td>...</td>\n      <td>...</td>\n    </tr>\n    <tr>\n      <th>541904</th>\n      <td>581587</td>\n      <td>22613</td>\n      <td>PACK OF 20 SPACEBOY NAPKINS</td>\n      <td>12</td>\n      <td>12/9/2011 12:50</td>\n      <td>0.85</td>\n      <td>12680.0</td>\n      <td>France</td>\n    </tr>\n    <tr>\n      <th>541905</th>\n      <td>581587</td>\n      <td>22899</td>\n      <td>CHILDREN'S APRON DOLLY GIRL</td>\n      <td>6</td>\n      <td>12/9/2011 12:50</td>\n      <td>2.10</td>\n      <td>12680.0</td>\n      <td>France</td>\n    </tr>\n    <tr>\n      <th>541906</th>\n      <td>581587</td>\n      <td>23254</td>\n      <td>CHILDRENS CUTLERY DOLLY GIRL</td>\n      <td>4</td>\n      <td>12/9/2011 12:50</td>\n      <td>4.15</td>\n      <td>12680.0</td>\n      <td>France</td>\n    </tr>\n    <tr>\n      <th>541907</th>\n      <td>581587</td>\n      <td>23255</td>\n      <td>CHILDRENS CUTLERY CIRCUS PARADE</td>\n      <td>4</td>\n      <td>12/9/2011 12:50</td>\n      <td>4.15</td>\n      <td>12680.0</td>\n      <td>France</td>\n    </tr>\n    <tr>\n      <th>541908</th>\n      <td>581587</td>\n      <td>22138</td>\n      <td>BAKING SET 9 PIECE RETROSPOT</td>\n      <td>3</td>\n      <td>12/9/2011 12:50</td>\n      <td>4.95</td>\n      <td>12680.0</td>\n      <td>France</td>\n    </tr>\n  </tbody>\n</table>\n<p>541909 rows × 8 columns</p>\n</div>"
     },
     "execution_count": 3,
     "metadata": {},
     "output_type": "execute_result"
    }
   ],
   "source": [
    "data = pd.read_csv(\"../raw/data.csv\", encoding='unicode_escape')\n",
    "data"
   ]
  },
  {
   "cell_type": "code",
   "execution_count": 4,
   "metadata": {
    "pycharm": {
     "name": "#%%\n"
    }
   },
   "outputs": [
    {
     "data": {
      "text/plain": "(541909, 8)"
     },
     "execution_count": 4,
     "metadata": {},
     "output_type": "execute_result"
    }
   ],
   "source": [
    "data.shape"
   ]
  },
  {
   "cell_type": "code",
   "execution_count": 5,
   "metadata": {
    "pycharm": {
     "name": "#%%\n"
    }
   },
   "outputs": [
    {
     "data": {
      "text/plain": "InvoiceNo           0\nStockCode           0\nDescription      1454\nQuantity            0\nInvoiceDate         0\nUnitPrice           0\nCustomerID     135080\nCountry             0\ndtype: int64"
     },
     "execution_count": 5,
     "metadata": {},
     "output_type": "execute_result"
    }
   ],
   "source": [
    "data.isnull().sum()\n"
   ]
  },
  {
   "cell_type": "markdown",
   "metadata": {
    "pycharm": {
     "name": "#%% md\n"
    }
   },
   "source": [
    "Here we can see that 1454 values are missing from Description and 135080 values are missing from CustomerID. We can compute percentage of missing data, so we can see clearer picture of our data."
   ]
  },
  {
   "cell_type": "code",
   "execution_count": 6,
   "metadata": {
    "pycharm": {
     "name": "#%%\n"
    }
   },
   "outputs": [
    {
     "data": {
      "text/plain": "InvoiceNo       0.000000\nStockCode       0.000000\nDescription     0.268311\nQuantity        0.000000\nInvoiceDate     0.000000\nUnitPrice       0.000000\nCustomerID     24.926694\nCountry         0.000000\ndtype: float64"
     },
     "execution_count": 6,
     "metadata": {},
     "output_type": "execute_result"
    }
   ],
   "source": [
    "data.isnull().sum() / data.shape[0] * 100\n"
   ]
  },
  {
   "cell_type": "markdown",
   "metadata": {
    "pycharm": {
     "name": "#%% md\n"
    }
   },
   "source": [
    "Now we see that 0.26% of Description are missing. But almost 25% of CustomerID are unknown! Let's investigate it further by looking to other examples."
   ]
  },
  {
   "cell_type": "markdown",
   "metadata": {
    "pycharm": {
     "name": "#%% md\n"
    }
   },
   "source": [
    "## Missing descriptions"
   ]
  },
  {
   "cell_type": "code",
   "execution_count": 7,
   "metadata": {
    "pycharm": {
     "name": "#%%\n"
    }
   },
   "outputs": [
    {
     "data": {
      "text/plain": "       InvoiceNo StockCode Description  Quantity      InvoiceDate  UnitPrice  \\\n622       536414     22139         NaN        56  12/1/2010 11:52        0.0   \n1970      536545     21134         NaN         1  12/1/2010 14:32        0.0   \n1971      536546     22145         NaN         1  12/1/2010 14:33        0.0   \n1972      536547     37509         NaN         1  12/1/2010 14:33        0.0   \n1987      536549    85226A         NaN         1  12/1/2010 14:34        0.0   \n...          ...       ...         ...       ...              ...        ...   \n535322    581199     84581         NaN        -2  12/7/2011 18:26        0.0   \n535326    581203     23406         NaN        15  12/7/2011 18:31        0.0   \n535332    581209     21620         NaN         6  12/7/2011 18:35        0.0   \n536981    581234     72817         NaN        27  12/8/2011 10:33        0.0   \n538554    581408     85175         NaN        20  12/8/2011 14:06        0.0   \n\n        CustomerID         Country  \n622            NaN  United Kingdom  \n1970           NaN  United Kingdom  \n1971           NaN  United Kingdom  \n1972           NaN  United Kingdom  \n1987           NaN  United Kingdom  \n...            ...             ...  \n535322         NaN  United Kingdom  \n535326         NaN  United Kingdom  \n535332         NaN  United Kingdom  \n536981         NaN  United Kingdom  \n538554         NaN  United Kingdom  \n\n[1454 rows x 8 columns]",
      "text/html": "<div>\n<style scoped>\n    .dataframe tbody tr th:only-of-type {\n        vertical-align: middle;\n    }\n\n    .dataframe tbody tr th {\n        vertical-align: top;\n    }\n\n    .dataframe thead th {\n        text-align: right;\n    }\n</style>\n<table border=\"1\" class=\"dataframe\">\n  <thead>\n    <tr style=\"text-align: right;\">\n      <th></th>\n      <th>InvoiceNo</th>\n      <th>StockCode</th>\n      <th>Description</th>\n      <th>Quantity</th>\n      <th>InvoiceDate</th>\n      <th>UnitPrice</th>\n      <th>CustomerID</th>\n      <th>Country</th>\n    </tr>\n  </thead>\n  <tbody>\n    <tr>\n      <th>622</th>\n      <td>536414</td>\n      <td>22139</td>\n      <td>NaN</td>\n      <td>56</td>\n      <td>12/1/2010 11:52</td>\n      <td>0.0</td>\n      <td>NaN</td>\n      <td>United Kingdom</td>\n    </tr>\n    <tr>\n      <th>1970</th>\n      <td>536545</td>\n      <td>21134</td>\n      <td>NaN</td>\n      <td>1</td>\n      <td>12/1/2010 14:32</td>\n      <td>0.0</td>\n      <td>NaN</td>\n      <td>United Kingdom</td>\n    </tr>\n    <tr>\n      <th>1971</th>\n      <td>536546</td>\n      <td>22145</td>\n      <td>NaN</td>\n      <td>1</td>\n      <td>12/1/2010 14:33</td>\n      <td>0.0</td>\n      <td>NaN</td>\n      <td>United Kingdom</td>\n    </tr>\n    <tr>\n      <th>1972</th>\n      <td>536547</td>\n      <td>37509</td>\n      <td>NaN</td>\n      <td>1</td>\n      <td>12/1/2010 14:33</td>\n      <td>0.0</td>\n      <td>NaN</td>\n      <td>United Kingdom</td>\n    </tr>\n    <tr>\n      <th>1987</th>\n      <td>536549</td>\n      <td>85226A</td>\n      <td>NaN</td>\n      <td>1</td>\n      <td>12/1/2010 14:34</td>\n      <td>0.0</td>\n      <td>NaN</td>\n      <td>United Kingdom</td>\n    </tr>\n    <tr>\n      <th>...</th>\n      <td>...</td>\n      <td>...</td>\n      <td>...</td>\n      <td>...</td>\n      <td>...</td>\n      <td>...</td>\n      <td>...</td>\n      <td>...</td>\n    </tr>\n    <tr>\n      <th>535322</th>\n      <td>581199</td>\n      <td>84581</td>\n      <td>NaN</td>\n      <td>-2</td>\n      <td>12/7/2011 18:26</td>\n      <td>0.0</td>\n      <td>NaN</td>\n      <td>United Kingdom</td>\n    </tr>\n    <tr>\n      <th>535326</th>\n      <td>581203</td>\n      <td>23406</td>\n      <td>NaN</td>\n      <td>15</td>\n      <td>12/7/2011 18:31</td>\n      <td>0.0</td>\n      <td>NaN</td>\n      <td>United Kingdom</td>\n    </tr>\n    <tr>\n      <th>535332</th>\n      <td>581209</td>\n      <td>21620</td>\n      <td>NaN</td>\n      <td>6</td>\n      <td>12/7/2011 18:35</td>\n      <td>0.0</td>\n      <td>NaN</td>\n      <td>United Kingdom</td>\n    </tr>\n    <tr>\n      <th>536981</th>\n      <td>581234</td>\n      <td>72817</td>\n      <td>NaN</td>\n      <td>27</td>\n      <td>12/8/2011 10:33</td>\n      <td>0.0</td>\n      <td>NaN</td>\n      <td>United Kingdom</td>\n    </tr>\n    <tr>\n      <th>538554</th>\n      <td>581408</td>\n      <td>85175</td>\n      <td>NaN</td>\n      <td>20</td>\n      <td>12/8/2011 14:06</td>\n      <td>0.0</td>\n      <td>NaN</td>\n      <td>United Kingdom</td>\n    </tr>\n  </tbody>\n</table>\n<p>1454 rows × 8 columns</p>\n</div>"
     },
     "execution_count": 7,
     "metadata": {},
     "output_type": "execute_result"
    }
   ],
   "source": [
    "data[data['Description'].isnull()]"
   ]
  },
  {
   "cell_type": "code",
   "execution_count": 8,
   "metadata": {
    "pycharm": {
     "name": "#%%\n"
    }
   },
   "outputs": [
    {
     "data": {
      "text/plain": "0.0    1454\nName: UnitPrice, dtype: int64"
     },
     "execution_count": 8,
     "metadata": {},
     "output_type": "execute_result"
    }
   ],
   "source": [
    "data[data['Description'].isnull()]['UnitPrice'].value_counts()"
   ]
  },
  {
   "cell_type": "code",
   "execution_count": 9,
   "metadata": {
    "pycharm": {
     "name": "#%%\n"
    }
   },
   "outputs": [
    {
     "data": {
      "text/plain": "True    1454\nName: CustomerID, dtype: int64"
     },
     "execution_count": 9,
     "metadata": {},
     "output_type": "execute_result"
    }
   ],
   "source": [
    "data[data['Description'].isnull()]['CustomerID'].isnull().value_counts()"
   ]
  },
  {
   "cell_type": "markdown",
   "metadata": {
    "pycharm": {
     "name": "#%% md\n"
    }
   },
   "source": [
    "Look on the pattern. In cases of missing descriptions we always miss the customer and the unit price as well. Why does retailer recorded such transactions without proper description? We could expect strange values in our dataset, and it will be difficult to detect them."
   ]
  },
  {
   "cell_type": "markdown",
   "metadata": {
    "pycharm": {
     "name": "#%% md\n"
    }
   },
   "source": [
    "Let's investigate Descriptions even further. Can we find \"nan\" Strings and empty \"\" Strings?"
   ]
  },
  {
   "cell_type": "code",
   "execution_count": 10,
   "metadata": {
    "pycharm": {
     "name": "#%%\n"
    }
   },
   "outputs": [
    {
     "data": {
      "text/plain": "False    539724\nTrue        731\nName: lowercase_descriptions, dtype: int64"
     },
     "execution_count": 10,
     "metadata": {},
     "output_type": "execute_result"
    }
   ],
   "source": [
    "data.loc[data[\"Description\"].isnull()==False, \"lowercase_descriptions\"] = data.loc[\n",
    "    data[\"Description\"].isnull()==False,\"Description\"\n",
    "].apply(lambda l: l.lower())\n",
    "\n",
    "data[\"lowercase_descriptions\"].dropna().apply(\n",
    "    lambda l: np.where(\"nan\" in l, True, False)\n",
    ").value_counts()"
   ]
  },
  {
   "cell_type": "code",
   "execution_count": 11,
   "metadata": {
    "pycharm": {
     "name": "#%%\n"
    }
   },
   "outputs": [
    {
     "data": {
      "text/plain": "False    540455\nName: lowercase_descriptions, dtype: int64"
     },
     "execution_count": 11,
     "metadata": {},
     "output_type": "execute_result"
    }
   ],
   "source": [
    "data[\"lowercase_descriptions\"].dropna().apply(\n",
    "    lambda l: np.where(\"\" == l, True, False)\n",
    ").value_counts()"
   ]
  },
  {
   "cell_type": "markdown",
   "metadata": {
    "pycharm": {
     "name": "#%% md\n"
    }
   },
   "source": [
    "We found additional 731 hidden nan-values that show a string \"nan\" instead of a nan-value. Let's transform them to NaN"
   ]
  },
  {
   "cell_type": "code",
   "execution_count": 12,
   "metadata": {
    "pycharm": {
     "name": "#%%\n"
    }
   },
   "outputs": [],
   "source": [
    "data.loc[data[\"lowercase_descriptions\"].isnull()==False, \"lowercase_descriptions\"] = data.loc[\n",
    "    data[\"lowercase_descriptions\"].isnull()==False, \"lowercase_descriptions\"\n",
    "].apply(lambda l: np.where(\"nan\" in l, None, l))"
   ]
  },
  {
   "cell_type": "markdown",
   "metadata": {
    "pycharm": {
     "name": "#%% md\n"
    }
   },
   "source": [
    "## Missing CustomerID"
   ]
  },
  {
   "cell_type": "code",
   "execution_count": 13,
   "metadata": {
    "pycharm": {
     "name": "#%%\n"
    }
   },
   "outputs": [
    {
     "data": {
      "text/plain": "       InvoiceNo StockCode                      Description  Quantity  \\\n622       536414     22139                              NaN        56   \n1443      536544     21773  DECORATIVE ROSE BATHROOM BOTTLE         1   \n1444      536544     21774  DECORATIVE CATS BATHROOM BOTTLE         2   \n1445      536544     21786               POLKADOT RAIN HAT          4   \n1446      536544     21787            RAIN PONCHO RETROSPOT         2   \n...          ...       ...                              ...       ...   \n541536    581498    85099B          JUMBO BAG RED RETROSPOT         5   \n541537    581498    85099C   JUMBO  BAG BAROQUE BLACK WHITE         4   \n541538    581498     85150    LADIES & GENTLEMEN METAL SIGN         1   \n541539    581498     85174                S/4 CACTI CANDLES         1   \n541540    581498       DOT                   DOTCOM POSTAGE         1   \n\n            InvoiceDate  UnitPrice  CustomerID         Country  \\\n622     12/1/2010 11:52       0.00         NaN  United Kingdom   \n1443    12/1/2010 14:32       2.51         NaN  United Kingdom   \n1444    12/1/2010 14:32       2.51         NaN  United Kingdom   \n1445    12/1/2010 14:32       0.85         NaN  United Kingdom   \n1446    12/1/2010 14:32       1.66         NaN  United Kingdom   \n...                 ...        ...         ...             ...   \n541536  12/9/2011 10:26       4.13         NaN  United Kingdom   \n541537  12/9/2011 10:26       4.13         NaN  United Kingdom   \n541538  12/9/2011 10:26       4.96         NaN  United Kingdom   \n541539  12/9/2011 10:26      10.79         NaN  United Kingdom   \n541540  12/9/2011 10:26    1714.17         NaN  United Kingdom   \n\n                 lowercase_descriptions  \n622                                 NaN  \n1443    decorative rose bathroom bottle  \n1444    decorative cats bathroom bottle  \n1445                 polkadot rain hat   \n1446              rain poncho retrospot  \n...                                 ...  \n541536          jumbo bag red retrospot  \n541537   jumbo  bag baroque black white  \n541538    ladies & gentlemen metal sign  \n541539                s/4 cacti candles  \n541540                   dotcom postage  \n\n[135080 rows x 9 columns]",
      "text/html": "<div>\n<style scoped>\n    .dataframe tbody tr th:only-of-type {\n        vertical-align: middle;\n    }\n\n    .dataframe tbody tr th {\n        vertical-align: top;\n    }\n\n    .dataframe thead th {\n        text-align: right;\n    }\n</style>\n<table border=\"1\" class=\"dataframe\">\n  <thead>\n    <tr style=\"text-align: right;\">\n      <th></th>\n      <th>InvoiceNo</th>\n      <th>StockCode</th>\n      <th>Description</th>\n      <th>Quantity</th>\n      <th>InvoiceDate</th>\n      <th>UnitPrice</th>\n      <th>CustomerID</th>\n      <th>Country</th>\n      <th>lowercase_descriptions</th>\n    </tr>\n  </thead>\n  <tbody>\n    <tr>\n      <th>622</th>\n      <td>536414</td>\n      <td>22139</td>\n      <td>NaN</td>\n      <td>56</td>\n      <td>12/1/2010 11:52</td>\n      <td>0.00</td>\n      <td>NaN</td>\n      <td>United Kingdom</td>\n      <td>NaN</td>\n    </tr>\n    <tr>\n      <th>1443</th>\n      <td>536544</td>\n      <td>21773</td>\n      <td>DECORATIVE ROSE BATHROOM BOTTLE</td>\n      <td>1</td>\n      <td>12/1/2010 14:32</td>\n      <td>2.51</td>\n      <td>NaN</td>\n      <td>United Kingdom</td>\n      <td>decorative rose bathroom bottle</td>\n    </tr>\n    <tr>\n      <th>1444</th>\n      <td>536544</td>\n      <td>21774</td>\n      <td>DECORATIVE CATS BATHROOM BOTTLE</td>\n      <td>2</td>\n      <td>12/1/2010 14:32</td>\n      <td>2.51</td>\n      <td>NaN</td>\n      <td>United Kingdom</td>\n      <td>decorative cats bathroom bottle</td>\n    </tr>\n    <tr>\n      <th>1445</th>\n      <td>536544</td>\n      <td>21786</td>\n      <td>POLKADOT RAIN HAT</td>\n      <td>4</td>\n      <td>12/1/2010 14:32</td>\n      <td>0.85</td>\n      <td>NaN</td>\n      <td>United Kingdom</td>\n      <td>polkadot rain hat</td>\n    </tr>\n    <tr>\n      <th>1446</th>\n      <td>536544</td>\n      <td>21787</td>\n      <td>RAIN PONCHO RETROSPOT</td>\n      <td>2</td>\n      <td>12/1/2010 14:32</td>\n      <td>1.66</td>\n      <td>NaN</td>\n      <td>United Kingdom</td>\n      <td>rain poncho retrospot</td>\n    </tr>\n    <tr>\n      <th>...</th>\n      <td>...</td>\n      <td>...</td>\n      <td>...</td>\n      <td>...</td>\n      <td>...</td>\n      <td>...</td>\n      <td>...</td>\n      <td>...</td>\n      <td>...</td>\n    </tr>\n    <tr>\n      <th>541536</th>\n      <td>581498</td>\n      <td>85099B</td>\n      <td>JUMBO BAG RED RETROSPOT</td>\n      <td>5</td>\n      <td>12/9/2011 10:26</td>\n      <td>4.13</td>\n      <td>NaN</td>\n      <td>United Kingdom</td>\n      <td>jumbo bag red retrospot</td>\n    </tr>\n    <tr>\n      <th>541537</th>\n      <td>581498</td>\n      <td>85099C</td>\n      <td>JUMBO  BAG BAROQUE BLACK WHITE</td>\n      <td>4</td>\n      <td>12/9/2011 10:26</td>\n      <td>4.13</td>\n      <td>NaN</td>\n      <td>United Kingdom</td>\n      <td>jumbo  bag baroque black white</td>\n    </tr>\n    <tr>\n      <th>541538</th>\n      <td>581498</td>\n      <td>85150</td>\n      <td>LADIES &amp; GENTLEMEN METAL SIGN</td>\n      <td>1</td>\n      <td>12/9/2011 10:26</td>\n      <td>4.96</td>\n      <td>NaN</td>\n      <td>United Kingdom</td>\n      <td>ladies &amp; gentlemen metal sign</td>\n    </tr>\n    <tr>\n      <th>541539</th>\n      <td>581498</td>\n      <td>85174</td>\n      <td>S/4 CACTI CANDLES</td>\n      <td>1</td>\n      <td>12/9/2011 10:26</td>\n      <td>10.79</td>\n      <td>NaN</td>\n      <td>United Kingdom</td>\n      <td>s/4 cacti candles</td>\n    </tr>\n    <tr>\n      <th>541540</th>\n      <td>581498</td>\n      <td>DOT</td>\n      <td>DOTCOM POSTAGE</td>\n      <td>1</td>\n      <td>12/9/2011 10:26</td>\n      <td>1714.17</td>\n      <td>NaN</td>\n      <td>United Kingdom</td>\n      <td>dotcom postage</td>\n    </tr>\n  </tbody>\n</table>\n<p>135080 rows × 9 columns</p>\n</div>"
     },
     "execution_count": 13,
     "metadata": {},
     "output_type": "execute_result"
    }
   ],
   "source": [
    "data[data[\"CustomerID\"].isnull()]"
   ]
  },
  {
   "cell_type": "code",
   "execution_count": 14,
   "metadata": {
    "pycharm": {
     "name": "#%%\n"
    }
   },
   "outputs": [
    {
     "data": {
      "text/plain": "           UnitPrice       Quantity\ncount  135080.000000  135080.000000\nmean        8.076577       1.995573\nstd       151.900816      66.696153\nmin    -11062.060000   -9600.000000\n25%         1.630000       1.000000\n50%         3.290000       1.000000\n75%         5.450000       3.000000\nmax     17836.460000    5568.000000",
      "text/html": "<div>\n<style scoped>\n    .dataframe tbody tr th:only-of-type {\n        vertical-align: middle;\n    }\n\n    .dataframe tbody tr th {\n        vertical-align: top;\n    }\n\n    .dataframe thead th {\n        text-align: right;\n    }\n</style>\n<table border=\"1\" class=\"dataframe\">\n  <thead>\n    <tr style=\"text-align: right;\">\n      <th></th>\n      <th>UnitPrice</th>\n      <th>Quantity</th>\n    </tr>\n  </thead>\n  <tbody>\n    <tr>\n      <th>count</th>\n      <td>135080.000000</td>\n      <td>135080.000000</td>\n    </tr>\n    <tr>\n      <th>mean</th>\n      <td>8.076577</td>\n      <td>1.995573</td>\n    </tr>\n    <tr>\n      <th>std</th>\n      <td>151.900816</td>\n      <td>66.696153</td>\n    </tr>\n    <tr>\n      <th>min</th>\n      <td>-11062.060000</td>\n      <td>-9600.000000</td>\n    </tr>\n    <tr>\n      <th>25%</th>\n      <td>1.630000</td>\n      <td>1.000000</td>\n    </tr>\n    <tr>\n      <th>50%</th>\n      <td>3.290000</td>\n      <td>1.000000</td>\n    </tr>\n    <tr>\n      <th>75%</th>\n      <td>5.450000</td>\n      <td>3.000000</td>\n    </tr>\n    <tr>\n      <th>max</th>\n      <td>17836.460000</td>\n      <td>5568.000000</td>\n    </tr>\n  </tbody>\n</table>\n</div>"
     },
     "execution_count": 14,
     "metadata": {},
     "output_type": "execute_result"
    }
   ],
   "source": [
    "data.loc[data[\"CustomerID\"].isnull(), [\"UnitPrice\", \"Quantity\"]].describe()"
   ]
  },
  {
   "cell_type": "markdown",
   "metadata": {
    "pycharm": {
     "name": "#%% md\n"
    }
   },
   "source": [
    "That's bad as well. The price and the quantities of entries without a customer ID can show extreme outliers. We can clearly see that there are negative values in both variables."
   ]
  },
  {
   "cell_type": "markdown",
   "metadata": {
    "pycharm": {
     "name": "#%% md\n"
    }
   },
   "source": [
    "As we don't know why customers or descriptions are missing, and we have seen strange outliers in quantities and prices, we decided to drop all NaN values."
   ]
  },
  {
   "cell_type": "code",
   "execution_count": 15,
   "metadata": {
    "pycharm": {
     "name": "#%%\n"
    }
   },
   "outputs": [],
   "source": [
    "data = data.loc[(data[\"CustomerID\"].isnull()==False) & (data[\"lowercase_descriptions\"].isnull()==False)].copy()"
   ]
  },
  {
   "cell_type": "code",
   "execution_count": 19,
   "metadata": {
    "pycharm": {
     "name": "#%%\n"
    }
   },
   "outputs": [
    {
     "data": {
      "text/plain": "(406223, 8)"
     },
     "execution_count": 19,
     "metadata": {},
     "output_type": "execute_result"
    }
   ],
   "source": [
    "data.isnull().sum().sum()\n",
    "data.shape"
   ]
  },
  {
   "cell_type": "code",
   "execution_count": 17,
   "metadata": {
    "pycharm": {
     "name": "#%%\n"
    }
   },
   "outputs": [],
   "source": [
    "data = data.iloc[:, 0:8]"
   ]
  },
  {
   "cell_type": "code",
   "execution_count": 18,
   "metadata": {
    "pycharm": {
     "name": "#%%\n"
    }
   },
   "outputs": [],
   "source": [
    "data.to_csv(\"new_data.csv\")"
   ]
  }
 ],
 "metadata": {
  "kernelspec": {
   "display_name": "Python 3",
   "language": "python",
   "name": "python3"
  }
 },
 "nbformat": 4,
 "nbformat_minor": 0
}